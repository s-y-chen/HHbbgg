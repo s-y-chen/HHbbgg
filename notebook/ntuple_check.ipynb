{
 "cells": [
  {
   "cell_type": "code",
   "execution_count": 6,
   "metadata": {},
   "outputs": [
    {
     "name": "stdout",
     "output_type": "stream",
     "text": [
      "Welcome to JupyROOT 6.22/02\n",
      "\u001b[1m\u001b[37mgpu-ibanks-2.hep.caltech.edu\u001b[m  Thu Aug  5 15:29:37 2021  \u001b[1m\u001b[30m470.57.02\u001b[m\n",
      "\u001b[36m[0]\u001b[m \u001b[34mNVIDIA TITAN Xp \u001b[m |\u001b[31m 27'C\u001b[m, \u001b[32m  0 %\u001b[m | \u001b[36m\u001b[1m\u001b[33m    1\u001b[m / \u001b[33m12196\u001b[m MB |\n",
      "\u001b[36m[1]\u001b[m \u001b[34mNVIDIA TITAN Xp \u001b[m |\u001b[31m 27'C\u001b[m, \u001b[32m  0 %\u001b[m | \u001b[36m\u001b[1m\u001b[33m    1\u001b[m / \u001b[33m12196\u001b[m MB |\n",
      "\u001b[36m[2]\u001b[m \u001b[34mNVIDIA TITAN Xp \u001b[m |\u001b[31m 30'C\u001b[m, \u001b[32m  0 %\u001b[m | \u001b[36m\u001b[1m\u001b[33m    1\u001b[m / \u001b[33m12196\u001b[m MB |\n",
      "\u001b[36m[3]\u001b[m \u001b[34mNVIDIA TITAN Xp \u001b[m |\u001b[31m 24'C\u001b[m, \u001b[32m  0 %\u001b[m | \u001b[36m\u001b[1m\u001b[33m    1\u001b[m / \u001b[33m12196\u001b[m MB |\n",
      "\u001b[36m[4]\u001b[m \u001b[34mNVIDIA TITAN Xp \u001b[m |\u001b[31m 26'C\u001b[m, \u001b[32m  0 %\u001b[m | \u001b[36m\u001b[1m\u001b[33m    1\u001b[m / \u001b[33m12196\u001b[m MB |\n",
      "\u001b[36m[5]\u001b[m \u001b[34mNVIDIA TITAN Xp \u001b[m |\u001b[31m 23'C\u001b[m, \u001b[32m  0 %\u001b[m | \u001b[36m\u001b[1m\u001b[33m    1\u001b[m / \u001b[33m12196\u001b[m MB |\n"
     ]
    }
   ],
   "source": [
    "import ROOT as rt\n",
    "import uproot\n",
    "# from root_numpy import root2array, tree2array\n",
    "#from root_pandas import read_root\n",
    "import h5py \n",
    "\n",
    "import numpy as np\n",
    "import numpy.lib.recfunctions as nlr\n",
    "import pandas as pd\n",
    "import os, sys\n",
    "from matplotlib import pyplot as plt\n",
    "import math\n",
    "import json\n",
    "\n",
    "import gpustat\n",
    "gpustat.print_gpustat()\n",
    "os.environ['CUDA_VISIBLE_DEVICES']='3'"
   ]
  },
  {
   "cell_type": "code",
   "execution_count": 2,
   "metadata": {},
   "outputs": [],
   "source": [
    "GluGluToHH_file = uproot.open('/storage/af/user/nlu/work/HH/CMSSW_9_4_2/src/bbgg/HHbbgg_git/HHbbggAna/out.root')\n",
    "GluGluToHH_array = GluGluToHH_file['tree'].arrays()\n",
    "GluGluToHH_df = pd.DataFrame(GluGluToHH_array)"
   ]
  },
  {
   "cell_type": "code",
   "execution_count": 3,
   "metadata": {},
   "outputs": [
    {
     "name": "stdout",
     "output_type": "stream",
     "text": [
      "1.0    66827\n",
      "0.0    65572\n",
      "Name: b'recon', dtype: int64\n"
     ]
    }
   ],
   "source": [
    "print(GluGluToHH_df[b'recon'].value_counts())"
   ]
  },
  {
   "cell_type": "code",
   "execution_count": 4,
   "metadata": {},
   "outputs": [
    {
     "name": "stdout",
     "output_type": "stream",
     "text": [
      "16.46061\n"
     ]
    }
   ],
   "source": [
    "print(np.sum(GluGluToHH_df.loc[:, b'genweight'].values))"
   ]
  },
  {
   "cell_type": "code",
   "execution_count": 45,
   "metadata": {},
   "outputs": [],
   "source": [
    "def readvar(filename, treename, varname):\n",
    "    file = uproot.open(filename)\n",
    "    file_array = file[treename].arrays()\n",
    "    #print(list(file_array.keys()))\n",
    "    #print('test print(file_array[varname][0])')\n",
    "    #print(file_array[varname][0])\n",
    "    return file_array[varname][0]"
   ]
  },
  {
   "cell_type": "code",
   "execution_count": 8,
   "metadata": {},
   "outputs": [],
   "source": [
    "def FileToDF(file):\n",
    "    file = uproot.open(file)\n",
    "    file_array = file['tree'].arrays()\n",
    "    file_df = pd.DataFrame(file_array)\n",
    "    return file_df"
   ]
  },
  {
   "cell_type": "code",
   "execution_count": 10,
   "metadata": {},
   "outputs": [
    {
     "name": "stdout",
     "output_type": "stream",
     "text": [
      "610\n",
      "53162410.0\n"
     ]
    }
   ],
   "source": [
    "file1 = open('/storage/af/user/nlu/work/HH/CMSSW_9_4_2/src/bbgg/HHbbgg_git/HHbbggAna/out', 'r')\n",
    "Lines = file1.readlines()\n",
    "\n",
    "count = 0\n",
    "dfs = []\n",
    "\n",
    "# Strips the newline character\n",
    "for line in Lines:\n",
    "    line = line.strip('\\n')\n",
    "    count += 1\n",
    "    dfs.append(FileToDF(line))\n",
    "    #print(\"Line{}: {}\".format(count, line.strip()))\n",
    "print(count)\n",
    "combine_df = pd.concat(dfs, ignore_index=True)\n",
    "print(np.sum(combine_df.loc[:, b'genweight'].values))"
   ]
  },
  {
   "cell_type": "code",
   "execution_count": 50,
   "metadata": {},
   "outputs": [],
   "source": [
    "def calgenSumw(year):\n",
    "    \n",
    "    file1 = open('/storage/af/user/nlu/work/HH/CMSSW_9_4_2/src/bbgg/HHbbgg_git/HHbbggAna/testfile/bbgg_nanoAOD_file_lists_'+year+'.txt', 'r')\n",
    "    Lines = file1.readlines()\n",
    "\n",
    "    for line in Lines:\n",
    "        line = line.strip('\\n')\n",
    "        print(line)\n",
    "        if line == 'data':\n",
    "            continue\n",
    "        genSumw = 0.\n",
    "        fullpath = '/storage/af/user/nlu/work/HH/CMSSW_9_4_2/src/bbgg/HHbbgg_git/HHbbggAna/testfile/lists_'+year+'/'+line+'.txt'\n",
    "        file_proc = open(fullpath)\n",
    "        Lines_proc = file_proc.readlines()\n",
    "        for subline in Lines_proc:\n",
    "            subline = subline.strip('\\n')\n",
    "            #print(subline)\n",
    "            readvar(subline, \"Runs\", b'genEventSumw')\n",
    "            genSumw = genSumw + readvar(subline, \"Runs\", b'genEventSumw')\n",
    "        print(\"genSumw: \",genSumw)"
   ]
  },
  {
   "cell_type": "code",
   "execution_count": 48,
   "metadata": {},
   "outputs": [
    {
     "name": "stdout",
     "output_type": "stream",
     "text": [
      "data\n",
      "VBFHHTo2B2G_CV_1_C2V_1_C3_1_TuneCP5_PSWeights_13TeV-madgraph-pythia8\n",
      "genSumw:  392173.7132100609\n",
      "TTGJets_TuneCP5_13TeV-amcatnloFXFX-madspin-pythia8\n",
      "genSumw:  33438763.162006084\n",
      "TTGG_0Jets_TuneCP5_13TeV_amcatnlo_madspin_pythia8\n",
      "genSumw:  50221.85598815847\n",
      "TTJets_TuneCP5_13TeV-amcatnloFXFX-pythia8\n",
      "genSumw:  638545951469.1536\n",
      "GluGluToHHTo2B2G_node_cHHH1_TuneCP5_PSWeights_13TeV-powheg-pythia8\n",
      "genSumw:  5402.244961268351\n",
      "VHToGG_M125_13TeV_amcatnloFXFX_madspin_pythia8\n",
      "genSumw:  3800454.1885023806\n",
      "ttHToGG_M125_TuneCP5_PSweights_13TeV-powheg-pythia8\n",
      "genSumw:  526575.1838219386\n",
      "VBFHToGG_M125_13TeV_amcatnlo_pythia8\n",
      "genSumw:  7681928.604487639\n",
      "GluGluHToGG_M125_TuneCP5_13TeV-amcatnloFXFX-pythia8\n",
      "genSumw:  213408144.61690226\n",
      "GJet_Pt-20to40_DoubleEMEnriched_MGG-80toInf_TuneCP5_13TeV_Pythia8\n",
      "genSumw:  14366641.0\n",
      "GJet_Pt-40toInf_DoubleEMEnriched_MGG-80toInf_TuneCP5_13TeV_Pythia8\n",
      "genSumw:  10205533.0\n",
      "DiPhotonJetsBox2BJets_MGG-80toInf_13TeV-Sherpa\n",
      "genSumw:  161251.90000000005\n",
      "DiPhotonJetsBox1BJet_MGG-80toInf_13TeV-Sherpa\n",
      "genSumw:  169252.80000000002\n",
      "DiPhotonJetsBox_MGG-80toInf_13TeV-Sherpa\n",
      "genSumw:  6423331.299999999\n"
     ]
    }
   ],
   "source": [
    "calgenSumw('2018')"
   ]
  },
  {
   "cell_type": "code",
   "execution_count": 51,
   "metadata": {},
   "outputs": [
    {
     "name": "stdout",
     "output_type": "stream",
     "text": [
      "data\n",
      "VBFHHTo2B2G_CV_1_C2V_1_C3_1_13TeV-madgraph\n",
      "genSumw:  99078.0\n",
      "DiPhotonJetsBox1BJet_MGG-80toInf_13TeV-Sherpa\n",
      "genSumw:  179926.90000000002\n",
      "DiPhotonJetsBox2BJets_MGG-80toInf_13TeV-Sherpa\n",
      "genSumw:  167403.10000000003\n",
      "DiPhotonJetsBox_MGG-80toInf_13TeV-Sherpa\n",
      "genSumw:  21638416.099999994\n",
      "GJet_Pt-20to40_DoubleEMEnriched_MGG-80toInf_TuneCP5_13TeV_Pythia8\n",
      "genSumw:  17678702.0\n",
      "GJet_Pt-40toInf_DoubleEMEnriched_MGG-80toInf_TuneCP5_13TeV_Pythia8\n",
      "genSumw:  79243357.0\n",
      "GluGluHToGG_M-125_13TeV_powheg_pythia8\n",
      "genSumw:  20469841.991200007\n",
      "GluGluToHHTo2B2G_node_cHHH1_TuneCP5_PSWeights_13TeV-powheg-pythia8\n",
      "genSumw:  5342.4187968381175\n",
      "TTGG_0Jets_TuneCP5_13TeV_amcatnlo_madspin_pythia8\n",
      "genSumw:  25145.499083880008\n",
      "TTGJets_TuneCP5_13TeV-amcatnloFXFX-madspin-pythia8\n",
      "genSumw:  51104339.85992301\n",
      "TTJets_TuneCP5_13TeV-amcatnloFXFX-pythia8\n",
      "genSumw:  318686315779.0374\n",
      "VBFHToGG_M-125_13TeV_powheg_pythia8\n",
      "genSumw:  3846447.1165199997\n",
      "VHToGG_M125_13TeV_amcatnloFXFX_madspin_pythia8\n",
      "genSumw:  4100171.411232001\n",
      "ttHToGG_M125_13TeV_powheg_pythia8\n",
      "genSumw:  504098.30106273957\n"
     ]
    }
   ],
   "source": [
    "calgenSumw('2017')"
   ]
  },
  {
   "cell_type": "code",
   "execution_count": 52,
   "metadata": {},
   "outputs": [
    {
     "name": "stdout",
     "output_type": "stream",
     "text": [
      "data\n",
      "VBFHHTo2B2G_CV_1_C2V_1_C3_1_13TeV-madgraph\n",
      "genSumw:  300000.0\n",
      "DiPhotonJetsBox1BJet_MGG-80toInf_TuneSherpa_13TeV-Sherpa\n",
      "genSumw:  161957.1\n",
      "DiPhotonJetsBox2BJets_MGG-80toInf_TuneSherpa_13TeV-Sherpa\n",
      "genSumw:  165812.60000000003\n",
      "DiPhotonJetsBox_MGG-80toInf_13TeV-Sherpa\n",
      "genSumw:  27856298.400000002\n",
      "GJet_Pt-20to40_DoubleEMEnriched_MGG-80toInf_TuneCUETP8M1_13TeV_Pythia8\n",
      "genSumw:  23302380.0\n",
      "GJet_Pt-40toInf_DoubleEMEnriched_MGG-80toInf_TuneCUETP8M1_13TeV_Pythia8\n",
      "genSumw:  70829685.0\n",
      "GluGluHToGG_M125_13TeV_amcatnloFXFX_pythia\n",
      "genSumw:  89212192.12336\n",
      "GluGluToHHTo2B2G_node_cHHH1_TuneCUETP8M1_PSWeights_13TeV-powheg-pythia8\n",
      "genSumw:  5372.566753895401\n",
      "TTGG_0Jets_TuneCUETP8M1_13TeV_amcatnlo_madspin_pythia8\n",
      "genSumw:  25098.827877816002\n",
      "TTGJets_TuneCUETP8M1_13TeV-amcatnloFXFX-madspin-pythia8\n",
      "genSumw:  92616271.19923201\n",
      "TTJets_TuneCUETP8M2T4_13TeV-amcatnloFXFX-pythia8\n",
      "genSumw:  96235105494.28423\n",
      "VBFHToGG_M125_13TeV_amcatnlo_pythia8_v2\n",
      "genSumw:  3908737.28136\n",
      "VHToGG_M125_13TeV_amcatnloFXFX_madspin_pythia8\n",
      "genSumw:  1862202.435519\n",
      "ttHToGG_M125_13TeV_powheg_pythia8_v2\n",
      "genSumw:  431817.25939200015\n"
     ]
    }
   ],
   "source": [
    "calgenSumw('2016')"
   ]
  },
  {
   "cell_type": "code",
   "execution_count": null,
   "metadata": {},
   "outputs": [],
   "source": []
  }
 ],
 "metadata": {
  "kernelspec": {
   "display_name": "Python 3",
   "language": "python",
   "name": "python3"
  },
  "language_info": {
   "codemirror_mode": {
    "name": "ipython",
    "version": 3
   },
   "file_extension": ".py",
   "mimetype": "text/x-python",
   "name": "python",
   "nbconvert_exporter": "python",
   "pygments_lexer": "ipython3",
   "version": "3.6.8"
  }
 },
 "nbformat": 4,
 "nbformat_minor": 4
}
