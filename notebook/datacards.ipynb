{
 "cells": [
  {
   "cell_type": "code",
   "execution_count": 1,
   "metadata": {},
   "outputs": [
    {
     "name": "stdout",
     "output_type": "stream",
     "text": [
      "Welcome to JupyROOT 6.22/02\n",
      "\u001b[1m\u001b[37mgpu-ibanks-3.hep.caltech.edu\u001b[m  Thu Sep 23 12:21:25 2021  \u001b[1m\u001b[30m470.57.02\u001b[m\n",
      "\u001b[36m[0]\u001b[m \u001b[34mNVIDIA GeForce GTX 1080\u001b[m |\u001b[1m\u001b[31m 73'C\u001b[m, \u001b[1m\u001b[32m100 %\u001b[m | \u001b[36m\u001b[1m\u001b[33m 4806\u001b[m / \u001b[33m 8119\u001b[m MB | \u001b[1m\u001b[30m3042\u001b[m(\u001b[33m737M\u001b[m) \u001b[1m\u001b[30m3054\u001b[m(\u001b[33m4049M\u001b[m)\n",
      "\u001b[36m[1]\u001b[m \u001b[34mNVIDIA GeForce GTX 1080\u001b[m |\u001b[1m\u001b[31m 60'C\u001b[m, \u001b[32m  0 %\u001b[m | \u001b[36m\u001b[1m\u001b[33m 7511\u001b[m / \u001b[33m 8119\u001b[m MB | \u001b[1m\u001b[30m3054\u001b[m(\u001b[33m7507M\u001b[m)\n",
      "\u001b[36m[2]\u001b[m \u001b[34mNVIDIA GeForce GTX 1080\u001b[m |\u001b[31m 31'C\u001b[m, \u001b[32m  0 %\u001b[m | \u001b[36m\u001b[1m\u001b[33m    4\u001b[m / \u001b[33m 8119\u001b[m MB |\n",
      "\u001b[36m[3]\u001b[m \u001b[34mNVIDIA GeForce GTX 1080\u001b[m |\u001b[1m\u001b[31m 50'C\u001b[m, \u001b[32m  0 %\u001b[m | \u001b[36m\u001b[1m\u001b[33m 7929\u001b[m / \u001b[33m 8119\u001b[m MB | \u001b[1m\u001b[30m3054\u001b[m(\u001b[33m7925M\u001b[m)\n",
      "\u001b[36m[4]\u001b[m \u001b[34mNVIDIA GeForce GTX 1080\u001b[m |\u001b[31m 28'C\u001b[m, \u001b[32m  0 %\u001b[m | \u001b[36m\u001b[1m\u001b[33m    4\u001b[m / \u001b[33m 8119\u001b[m MB |\n",
      "\u001b[36m[5]\u001b[m \u001b[34mNVIDIA GeForce GTX 1080\u001b[m |\u001b[1m\u001b[31m 57'C\u001b[m, \u001b[32m  0 %\u001b[m | \u001b[36m\u001b[1m\u001b[33m 8008\u001b[m / \u001b[33m 8119\u001b[m MB | \u001b[1m\u001b[30m3012\u001b[m(\u001b[33m723M\u001b[m) \u001b[1m\u001b[30m3054\u001b[m(\u001b[33m7281M\u001b[m)\n",
      "\u001b[36m[6]\u001b[m \u001b[34mNVIDIA GeForce GTX 1080\u001b[m |\u001b[1m\u001b[31m 56'C\u001b[m, \u001b[32m  0 %\u001b[m | \u001b[36m\u001b[1m\u001b[33m 7499\u001b[m / \u001b[33m 8119\u001b[m MB | \u001b[1m\u001b[30m3054\u001b[m(\u001b[33m7495M\u001b[m)\n",
      "\u001b[36m[7]\u001b[m \u001b[34mNVIDIA GeForce GTX 1080\u001b[m |\u001b[1m\u001b[31m 71'C\u001b[m, \u001b[1m\u001b[32m 55 %\u001b[m | \u001b[36m\u001b[1m\u001b[33m 4077\u001b[m / \u001b[33m 8119\u001b[m MB | \u001b[1m\u001b[30m3054\u001b[m(\u001b[33m4057M\u001b[m)\n"
     ]
    }
   ],
   "source": [
    "import ROOT as rt\n",
    "import uproot\n",
    "# from root_numpy import root2array, tree2array\n",
    "#from root_pandas import read_root\n",
    "import h5py \n",
    "\n",
    "import numpy as np\n",
    "import numpy.lib.recfunctions as nlr\n",
    "import pandas as pd\n",
    "import os, sys\n",
    "from matplotlib import pyplot as plt\n",
    "import math\n",
    "import json\n",
    "\n",
    "import gpustat\n",
    "gpustat.print_gpustat()\n",
    "os.environ['CUDA_VISIBLE_DEVICES']='3'"
   ]
  },
  {
   "cell_type": "code",
   "execution_count": 7,
   "metadata": {},
   "outputs": [],
   "source": [
    "def samp_to_df(samp_name):\n",
    "    file_name = f'ML/DNN_Trees/combine_sequential_DNN/{samp_name}_combine_seqDNN.root'\n",
    "    samp_file = uproot.open(file_name)\n",
    "    samp_array = samp_file['tree'].arrays()\n",
    "    samp_df = pd.DataFrame(samp_array)\n",
    "    return samp_df"
   ]
  },
  {
   "cell_type": "code",
   "execution_count": 9,
   "metadata": {},
   "outputs": [],
   "source": [
    "samples = ['sig', 'VBFHToGG', 'VHToGG', 'VBFHToGG', 'ttHToGG', 'GluGluHtoGG', 'DiPhotonJetsBox']\n",
    "dfs = []\n",
    "for samp in samples:\n",
    "    dfs.append(samp_to_df(samp))"
   ]
  },
  {
   "cell_type": "code",
   "execution_count": 13,
   "metadata": {},
   "outputs": [],
   "source": [
    "cat1_dfs = []\n",
    "cat2_dfs = []\n",
    "for df in dfs:\n",
    "    c1_df = df[df[b'DNN_score'] >= 0.5]\n",
    "    c2_df = df[df[b'DNN_score'] < 0.5]\n",
    "    cat1_dfs.append(c1_df)\n",
    "    cat2_dfs.append(c2_df)"
   ]
  },
  {
   "cell_type": "code",
   "execution_count": 17,
   "metadata": {},
   "outputs": [
    {
     "name": "stdout",
     "output_type": "stream",
     "text": [
      "sig\n",
      "Cat 1 Yield: 1.9093897160832838\n",
      "Cat 2 Yield: 0.2509009816880644\n",
      "\n",
      "\n",
      "VBFHToGG\n",
      "Cat 1 Yield: 2.2269970517374498\n",
      "Cat 2 Yield: 5.859881736967286\n",
      "\n",
      "\n",
      "VHToGG\n",
      "Cat 1 Yield: 0.031141655074769098\n",
      "Cat 2 Yield: 0.01577823321231607\n",
      "\n",
      "\n",
      "VBFHToGG\n",
      "Cat 1 Yield: 2.2269970517374498\n",
      "Cat 2 Yield: 5.859881736967286\n",
      "\n",
      "\n",
      "ttHToGG\n",
      "Cat 1 Yield: 10.346382676815402\n",
      "Cat 2 Yield: 66.83223159761457\n",
      "\n",
      "\n",
      "GluGluHtoGG\n",
      "Cat 1 Yield: 3.181379836146298\n",
      "Cat 2 Yield: 30.18129993394717\n",
      "\n",
      "\n",
      "DiPhotonJetsBox\n",
      "Cat 1 Yield: 5485.605459307579\n",
      "Cat 2 Yield: 112147.5713421699\n",
      "\n",
      "\n"
     ]
    }
   ],
   "source": [
    "for i in range(len(samples)):\n",
    "    print(samples[i])\n",
    "    c1_yield = np.sum(cat1_dfs[i].loc[:,b'genweight_scale'].values)\n",
    "    c2_yield = np.sum(cat2_dfs[i].loc[:, b'genweight_scale'].values)\n",
    "    print(f'Cat 1 Yield: {c1_yield}')\n",
    "    print(f'Cat 2 Yield: {c2_yield}')\n",
    "    print('\\n')"
   ]
  },
  {
   "cell_type": "code",
   "execution_count": null,
   "metadata": {},
   "outputs": [],
   "source": []
  }
 ],
 "metadata": {
  "kernelspec": {
   "display_name": "Python 3",
   "language": "python",
   "name": "python3"
  },
  "language_info": {
   "codemirror_mode": {
    "name": "ipython",
    "version": 3
   },
   "file_extension": ".py",
   "mimetype": "text/x-python",
   "name": "python",
   "nbconvert_exporter": "python",
   "pygments_lexer": "ipython3",
   "version": "3.6.8"
  }
 },
 "nbformat": 4,
 "nbformat_minor": 4
}
