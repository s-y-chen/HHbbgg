{
 "cells": [
  {
   "cell_type": "code",
   "execution_count": 1,
   "metadata": {},
   "outputs": [
    {
     "name": "stdout",
     "output_type": "stream",
     "text": [
      "Welcome to JupyROOT 6.22/02\n",
      "\u001b[1m\u001b[37mgpu-ibanks-3.hep.caltech.edu\u001b[m  Tue Oct 12 08:40:25 2021  \u001b[1m\u001b[30m470.57.02\u001b[m\n",
      "\u001b[36m[0]\u001b[m \u001b[34mNVIDIA GeForce GTX 1080\u001b[m |\u001b[31m 24'C\u001b[m, \u001b[32m  0 %\u001b[m | \u001b[36m\u001b[1m\u001b[33m  741\u001b[m / \u001b[33m 8119\u001b[m MB | \u001b[1m\u001b[30m3042\u001b[m(\u001b[33m737M\u001b[m)\n",
      "\u001b[36m[1]\u001b[m \u001b[34mNVIDIA GeForce GTX 1080\u001b[m |\u001b[31m 25'C\u001b[m, \u001b[32m  0 %\u001b[m | \u001b[36m\u001b[1m\u001b[33m 7687\u001b[m / \u001b[33m 8119\u001b[m MB | \u001b[1m\u001b[30mschen7\u001b[m(\u001b[33m7683M\u001b[m)\n",
      "\u001b[36m[2]\u001b[m \u001b[34mNVIDIA GeForce GTX 1080\u001b[m |\u001b[31m 27'C\u001b[m, \u001b[32m  0 %\u001b[m | \u001b[36m\u001b[1m\u001b[33m 7687\u001b[m / \u001b[33m 8119\u001b[m MB | \u001b[1m\u001b[30mschen7\u001b[m(\u001b[33m7683M\u001b[m)\n",
      "\u001b[36m[3]\u001b[m \u001b[34mNVIDIA GeForce GTX 1080\u001b[m |\u001b[31m 23'C\u001b[m, \u001b[32m  0 %\u001b[m | \u001b[36m\u001b[1m\u001b[33m 7687\u001b[m / \u001b[33m 8119\u001b[m MB | \u001b[1m\u001b[30mschen7\u001b[m(\u001b[33m7683M\u001b[m)\n",
      "\u001b[36m[4]\u001b[m \u001b[34mNVIDIA GeForce GTX 1080\u001b[m |\u001b[31m 26'C\u001b[m, \u001b[32m  0 %\u001b[m | \u001b[36m\u001b[1m\u001b[33m 7687\u001b[m / \u001b[33m 8119\u001b[m MB | \u001b[1m\u001b[30mschen7\u001b[m(\u001b[33m7683M\u001b[m)\n",
      "\u001b[36m[5]\u001b[m \u001b[34mNVIDIA GeForce GTX 1080\u001b[m |\u001b[31m 25'C\u001b[m, \u001b[32m  0 %\u001b[m | \u001b[36m\u001b[1m\u001b[33m  727\u001b[m / \u001b[33m 8119\u001b[m MB | \u001b[1m\u001b[30m3012\u001b[m(\u001b[33m723M\u001b[m)\n",
      "\u001b[36m[6]\u001b[m \u001b[34mNVIDIA GeForce GTX 1080\u001b[m |\u001b[31m 26'C\u001b[m, \u001b[32m  0 %\u001b[m | \u001b[36m\u001b[1m\u001b[33m    1\u001b[m / \u001b[33m 8119\u001b[m MB |\n",
      "\u001b[36m[7]\u001b[m \u001b[34mNVIDIA GeForce GTX 1080\u001b[m |\u001b[31m 27'C\u001b[m, \u001b[32m  0 %\u001b[m | \u001b[36m\u001b[1m\u001b[33m    1\u001b[m / \u001b[33m 8119\u001b[m MB |\n"
     ]
    }
   ],
   "source": [
    "import ROOT as rt\n",
    "import uproot\n",
    "# from root_numpy import root2array, tree2array\n",
    "#from root_pandas import read_root\n",
    "import h5py \n",
    "\n",
    "import numpy as np\n",
    "import numpy.lib.recfunctions as nlr\n",
    "import pandas as pd\n",
    "import os, sys\n",
    "from matplotlib import pyplot as plt\n",
    "import math\n",
    "import json\n",
    "\n",
    "import gpustat\n",
    "gpustat.print_gpustat()\n",
    "os.environ['CUDA_VISIBLE_DEVICES']='3'"
   ]
  },
  {
   "cell_type": "code",
   "execution_count": 4,
   "metadata": {},
   "outputs": [],
   "source": [
    "def samp_to_df(samp_name):\n",
    "    file_name = f'ML/DNN_Trees/combine_sequential_DNN/post_ms/{samp_name}_5.root'\n",
    "    samp_file = uproot.open(file_name)\n",
    "    samp_array = samp_file['tree'].arrays()\n",
    "    samp_df = pd.DataFrame(samp_array)\n",
    "    return samp_df\n",
    "\n",
    "def data_to_df(samp_name):\n",
    "    file_name = f'ML/DNN_Trees/combine_sequential_DNN/post_ms/{samp_name}.root'\n",
    "    samp_file = uproot.open(file_name)\n",
    "    samp_array = samp_file['tree'].arrays()\n",
    "    samp_df = pd.DataFrame(samp_array)\n",
    "    return samp_df"
   ]
  },
  {
   "cell_type": "code",
   "execution_count": 5,
   "metadata": {},
   "outputs": [],
   "source": [
    "samples = ['sig', 'VBFHToGG', 'VHToGG', 'ttHToGG', 'GluGluHtoGG', 'nonres']\n",
    "dfs = []\n",
    "for samp in samples:\n",
    "    dfs.append(samp_to_df(samp))\n",
    "\n",
    "data_df = data_to_df('data_result')"
   ]
  },
  {
   "cell_type": "code",
   "execution_count": 6,
   "metadata": {},
   "outputs": [],
   "source": [
    "cat1_dfs = []\n",
    "cat2_dfs = []\n",
    "for df in dfs:\n",
    "    c1_df = df[df[b'mass_sculpt_cut_sm'] == 1]\n",
    "    c2_df = df[df[b'mass_sculpt_cut_sm'] == 0]\n",
    "    cat1_dfs.append(c1_df)\n",
    "    cat2_dfs.append(c2_df)\n",
    "    \n",
    "data_df_cat1 = data_df[data_df[b'mass_sculpt_cut_sm']==1]\n",
    "data_df_cat2 = data_df[data_df[b'mass_sculpt_cut_sm']==0]"
   ]
  },
  {
   "cell_type": "code",
   "execution_count": null,
   "metadata": {},
   "outputs": [],
   "source": [
    "cut_cat1_dfs = []\n",
    "cut_cat2_dfs = []\n"
   ]
  },
  {
   "cell_type": "code",
   "execution_count": 9,
   "metadata": {},
   "outputs": [
    {
     "name": "stdout",
     "output_type": "stream",
     "text": [
      "sig\n",
      "Cat 1 Yield: 1.7972341161129326\n",
      "Cat 2 Yield: 0.3630563286953312\n",
      "Cat 1 #: 19379\n",
      "Cat 2 #: 3640\n",
      "\n",
      "\n",
      "VBFHToGG\n",
      "Cat 1 Yield: 2.0268253899370796\n",
      "Cat 2 Yield: 28.192944412623266\n",
      "Cat 1 #: 1524\n",
      "Cat 2 #: 22418\n",
      "\n",
      "\n",
      "VHToGG\n",
      "Cat 1 Yield: 7.34086227204584\n",
      "Cat 2 Yield: 62.3498116943523\n",
      "Cat 1 #: 2901\n",
      "Cat 2 #: 27234\n",
      "\n",
      "\n",
      "VBFHToGG\n",
      "Cat 1 Yield: 2.0268253899370796\n",
      "Cat 2 Yield: 28.192944412623266\n",
      "Cat 1 #: 1524\n",
      "Cat 2 #: 22418\n",
      "\n",
      "\n",
      "ttHToGG\n",
      "Cat 1 Yield: 1.3714950166749729\n",
      "Cat 2 Yield: 5.901805502540929\n",
      "Cat 1 #: 4883\n",
      "Cat 2 #: 20925\n",
      "\n",
      "\n",
      "GluGluHtoGG\n",
      "Cat 1 Yield: 23.90607990440339\n",
      "Cat 2 Yield: 380.917905672844\n",
      "Cat 1 #: 1585\n",
      "Cat 2 #: 24818\n",
      "\n",
      "\n",
      "nonres\n",
      "Cat 1 Yield: 18664.12622897837\n",
      "Cat 2 Yield: 312947.8696158767\n",
      "Cat 1 #: 39409\n",
      "Cat 2 #: 467244\n",
      "\n",
      "\n",
      "Data\n",
      "Cat 1 Yield: 30637.0\n",
      "Cat 2 Yield: 290654.0\n",
      "\n",
      "\n"
     ]
    }
   ],
   "source": [
    "for i in range(len(samples)):\n",
    "    print(samples[i])\n",
    "    weight_1 = cat1_dfs[i].loc[:,b'genweight_scale'].values\n",
    "    weight_2 = cat2_dfs[i].loc[:, b'genweight_scale'].values\n",
    "    c1_yield = np.sum(weight_1)\n",
    "    c2_yield = np.sum(weight_2)\n",
    "    num_event_c1 = weight_1.shape[0]\n",
    "    num_event_c2 = weight_2.shape[0]\n",
    "    print(f'Cat 1 Yield: {c1_yield}')\n",
    "    print(f'Cat 2 Yield: {c2_yield}')\n",
    "    print(f'Cat 1 #: {num_event_c1}')\n",
    "    print(f'Cat 2 #: {num_event_c2}')\n",
    "    print('\\n')\n",
    "    \n",
    "print('Data')\n",
    "c1_yield = np.sum(data_df_cat1.loc[:,b'genweight'].values)\n",
    "c2_yield = np.sum(data_df_cat2.loc[:, b'genweight'].values)\n",
    "print(f'Cat 1 Yield: {c1_yield}')\n",
    "print(f'Cat 2 Yield: {c2_yield}')\n",
    "print('\\n')"
   ]
  },
  {
   "cell_type": "code",
   "execution_count": null,
   "metadata": {},
   "outputs": [],
   "source": [
    "for i in range(len(samples)):\n",
    "    plt.figure()\n",
    "    plt.hist(cat1_dfs[i][b'diphoton_mass'], bins=20,  density = True, label='nonresonant background', weights = nonres_df[b'genweight'], range = (100, 180))\n",
    "    plt.hist(all_df[b'diphoton_mass'], bins=20, histtype='step', density = True, label='all background', weights = all_df[b'genweight'], range = (100, 180))\n",
    "    plt.xlabel('diphoton_mass')\n",
    "    plt.ylabel(\"Number of Events\")\n",
    "    plt.title('Diphoton Mass Comparison')\n",
    "    plt.legend(loc='best')\n",
    "    figure = plt.gcf()\n",
    "    figure.set_size_inches(8, 6)\n",
    "    plt.savefig(fname = f'Plots/Data_MC_Plots/random/mgg_ggHH_compare.png', format='png', dpi = 100)\n",
    "    plt.show()\n",
    "    plt.close()"
   ]
  },
  {
   "cell_type": "markdown",
   "metadata": {},
   "source": [
    "combine -M AsymptoticLimits -m 125 -n v1 /storage/af/user/schen7/CMSSW_9_4_2/src/Higgs/HHbbgg/HHbbggAna/script/datacards/HHbbgg_datacard.txt --saveWorkspace --saveToys --run blind\n"
   ]
  }
 ],
 "metadata": {
  "kernelspec": {
   "display_name": "Python 3",
   "language": "python",
   "name": "python3"
  },
  "language_info": {
   "codemirror_mode": {
    "name": "ipython",
    "version": 3
   },
   "file_extension": ".py",
   "mimetype": "text/x-python",
   "name": "python",
   "nbconvert_exporter": "python",
   "pygments_lexer": "ipython3",
   "version": "3.6.8"
  }
 },
 "nbformat": 4,
 "nbformat_minor": 4
}
